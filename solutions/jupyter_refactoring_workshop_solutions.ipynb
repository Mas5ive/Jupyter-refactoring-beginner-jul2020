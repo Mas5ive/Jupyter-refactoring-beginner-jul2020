{
 "cells": [
  {
   "cell_type": "markdown",
   "metadata": {},
   "source": [
    "# Solutions"
   ]
  },
  {
   "cell_type": "code",
   "execution_count": 1,
   "metadata": {},
   "outputs": [],
   "source": [
    "import pandas as pd\n",
    "import ipytest\n",
    "import pytest\n",
    "ipytest.autoconfig()"
   ]
  },
  {
   "cell_type": "markdown",
   "metadata": {},
   "source": [
    "### Exercise 1:\n",
    "\n",
    "Rename a function, add docstring, type hints\n",
    "\n",
    "def refactor_me(x, y, z):\n",
    "    return 2*x+y+z**2"
   ]
  },
  {
   "cell_type": "code",
   "execution_count": 2,
   "metadata": {},
   "outputs": [],
   "source": [
    "def refactor_me(x, y, z):\n",
    "    return 2*x+y+z**2\n",
    "\n",
    "#Rename function and its parameters \n",
    "def calc_magic_number(x,y,z):\n",
    "    return 2*x+y+z**2\n",
    "\n",
    "#We can add type hints for readability purposes\n",
    "def calc_magic_number(x:int, y:int, z:int) -> int:\n",
    "    \"\"\" Calculate a magic number for our workshop\"\"\"\n",
    "    return 2*x+y+z**2\n",
    "\n",
    "# Add casting to an int to make sure that the function returns what expected\n",
    "def calc_magic_number(x:int, y:int, z:int) -> int:\n",
    "    \"\"\" Calculate a magic number for our workshop\"\"\"\n",
    "    return 2*int(x)+int(y)+int(z)**2"
   ]
  },
  {
   "cell_type": "markdown",
   "metadata": {},
   "source": [
    "### Exercise 2:\n",
    "Extract a function and write 3 tests for it"
   ]
  },
  {
   "cell_type": "code",
   "execution_count": 3,
   "metadata": {},
   "outputs": [
    {
     "name": "stdout",
     "output_type": "stream",
     "text": [
      "================================================= test session starts =================================================\n",
      "platform win32 -- Python 3.8.3, pytest-5.4.3, py-1.9.0, pluggy-0.13.1 -- C:\\Users\\Gebruiker\\.conda\\envs\\jupyter-refactoring\\python.exe\n",
      "cachedir: .pytest_cache\n",
      "rootdir: C:\\Users\\Gebruiker\\Jupyter-refactoring-beginner-jul2020\\solutions\n",
      "collecting ... collected 3 items\n",
      "\n",
      "tmpgelqka_w.py::test_filter_not_equal_2 PASSED                                                                   [ 33%]\n",
      "tmpgelqka_w.py::test_filter_not_equal_0 PASSED                                                                   [ 66%]\n",
      "tmpgelqka_w.py::test_filter_column_not_exist PASSED                                                              [100%]\n",
      "\n",
      "================================================== 3 passed in 0.04s ==================================================\n"
     ]
    }
   ],
   "source": [
    "%%run_pytest[clean] -vv\n",
    " \n",
    "# positive case    \n",
    "def test_filter_not_equal_2():\n",
    "    input_df = pd.DataFrame([(1, 2), (2, 8)], columns=[\"A\", \"B\"])\n",
    "    test_df = filter_not_equal(input_df, \"B\", 2)\n",
    "    expected_df = pd.DataFrame([(2,8)], columns=[\"A\", \"B\"])\n",
    "    pd.testing.assert_frame_equal(test_df.reset_index(drop=True), expected_df.reset_index(drop=True))\n",
    "\n",
    "# positive case    \n",
    "def test_filter_not_equal_0():\n",
    "    input_df = pd.DataFrame([(1, 2), (2, 8)], columns=[\"A\", \"B\"])\n",
    "    test_df = filter_not_equal(input_df, \"B\", 0)\n",
    "    expected_df = pd.DataFrame([(1, 2), (2, 8)], columns=[\"A\", \"B\"])\n",
    "    pd.testing.assert_frame_equal(test_df.reset_index(drop=True), expected_df.reset_index(drop=True))  \n",
    "    \n",
    "# negative case\n",
    "def test_filter_column_not_exist():\n",
    "    with pytest.raises(KeyError):\n",
    "        input_df = pd.DataFrame([(1, 2), (2, 8)], columns=[\"A\", \"B\"])\n",
    "        test_df = filter_not_equal(input_df, \"C\", 0)\n",
    "    \n",
    "    \n",
    "def filter_not_equal(df: pd.DataFrame, column_name: str, val: int) -> pd.DataFrame:\n",
    "    df = df.copy()\n",
    "    new_df = df.loc[df[column_name]!= val]\n",
    "    return new_df"
   ]
  },
  {
   "cell_type": "code",
   "execution_count": null,
   "metadata": {},
   "outputs": [],
   "source": []
  }
 ],
 "metadata": {
  "kernelspec": {
   "display_name": "jupyter-refactoring",
   "language": "python",
   "name": "jupyter-refactoring"
  },
  "language_info": {
   "codemirror_mode": {
    "name": "ipython",
    "version": 3
   },
   "file_extension": ".py",
   "mimetype": "text/x-python",
   "name": "python",
   "nbconvert_exporter": "python",
   "pygments_lexer": "ipython3",
   "version": "3.8.3"
  }
 },
 "nbformat": 4,
 "nbformat_minor": 4
}
